{
 "cells": [
  {
   "cell_type": "markdown",
   "metadata": {},
   "source": [
    "1. 用subprocess来启动子进程和管理他们的输入和输出\n",
    "2. 这种子进程是跟父进程（python解释器）并行执行的，能充分利用CPU的多核性能\n",
    "\n",
    "- 子进程若终止，则返回returncode属性，否则即返回None\n",
    "Popen.poll()\n",
    "\n",
    "\n",
    "% python解释器进程\n",
    "helios     10894  0.3  0.4 374092 69100 pts/1  0:00 /home/helios/anaconda3/envs/sleipnir/bin/python /home/helios/子命令.py\n",
    "% 终端进程\n",
    "helios     10896  0.0  0.0   4864   700 pts/1  0:00 /bin/sh -c roslaunch /home/helios/rviz.launch\n",
    "% 命令行进程\n",
    "helios     10897  0.7  0.2 297216 48276 pts/1  0:01 /usr/bin/python3 /opt/ros/noetic/bin/roslaunch /home/helios/rviz.launch\n",
    "helios     10914 10.4  1.1 1908416 180144 ?    0:40 /home/helios/ws/Sleipnir/devel/lib/rviz/rviz /home/helios/test03.rviz __name:=rviz __log:=/home/helios/.ros/log/03230bd4-bd63-11eb-856d-63350de87134/rviz-1.log\n",
    "\n",
    "线索\n",
    "1. 使用proc.kill()并不会结束进程10894, 10986\n",
    "2. kill掉10897 launch进程 能够进一步kill掉10914这个节点进程\n",
    "\n",
    "helios     15467  3.6  0.4 598336 71336 pts/1  0:00 /home/helios/anaconda3/envs/sleipnir/bin/python /home/helios/子命令.py\n",
    "helios     15482 12.9  1.1 1909760 179168 ?    0:05 /home/helios/ws/Sleipnir/devel/lib/rviz/rviz /home/helios/test03.rviz __name:=rviz __log:=/home/helios/.ros/log/03230bd4-bd63-11eb-856d-63350de87134/rviz-1.log\n",
    "\n",
    "\n",
    "\n",
    "helios@helios:~$ ps -aux | grep 18942\n",
    "helios     18942  2.3  0.9 3237336 155608 pts/1  Sl+  23:19   0:00 /home/helios/anaconda3/envs/sleipnir/bin/python /home/helios/ws/Sleipnir/src/gui/scripts/ui.py\n",
    "helios     18980  0.0  0.0  14056   768 pts/6    S+   23:20   0:00 grep --color=auto 18942\n",
    "helios@helios:~$ ps aux | grep 18812\n",
    "helios     18991  0.0  0.0  14056   768 pts/6    S+   23:20   0:00 grep --color=auto 18812\n",
    "helios@helios:~$ ps aux | grep 18907\n",
    "helios     18907 13.3  2.1 3559160 357464 pts/1  Sl+  23:19   0:06 /home/helios/anaconda3/envs/sleipnir/bin/python /home/helios/ws/Sleipnir/src/gui/scripts/ui.py\n",
    "helios     18995  0.0  0.0  14056   760 pts/6    S+   23:20   0:00 grep --color=auto 18907\n",
    "helios@helios:~$ ps aux | grep 18956\n",
    "helios     18956  1.0  0.4 743740 68588 ?        Ssl  23:19   0:00 python /home/helios/ws/Sleipnir/src/Sleipnir/control/script/stanley_medium_car.py __name:=control __log:=/home/helios/.ros/log/03230bd4-bd63-11eb-856d-63350de87134/control-1.log\n"
   ]
  },
  {
   "cell_type": "code",
   "execution_count": 3,
   "metadata": {},
   "outputs": [
    {
     "data": {
      "text/plain": [
       "0"
      ]
     },
     "execution_count": 3,
     "metadata": {},
     "output_type": "execute_result"
    }
   ],
   "source": [
    "import subprocess\n",
    "subprocess.call(\"rqt&\", shell=True)"
   ]
  },
  {
   "cell_type": "code",
   "execution_count": 3,
   "metadata": {},
   "outputs": [
    {
     "ename": "NameError",
     "evalue": "name 'a' is not defined",
     "output_type": "error",
     "traceback": [
      "\u001b[0;31m---------------------------------------------------------------------------\u001b[0m",
      "\u001b[0;31mNameError\u001b[0m                                 Traceback (most recent call last)",
      "\u001b[0;32m<ipython-input-3-df2095dd6a0d>\u001b[0m in \u001b[0;36m<module>\u001b[0;34m\u001b[0m\n\u001b[0;32m----> 1\u001b[0;31m \u001b[0ma\u001b[0m\u001b[0;34m[\u001b[0m\u001b[0;36m0\u001b[0m\u001b[0;34m]\u001b[0m \u001b[0;34m=\u001b[0m\u001b[0;36m3\u001b[0m\u001b[0;34m\u001b[0m\u001b[0;34m\u001b[0m\u001b[0m\n\u001b[0m",
      "\u001b[0;31mNameError\u001b[0m: name 'a' is not defined"
     ]
    }
   ],
   "source": [
    "a[0] =3 "
   ]
  },
  {
   "cell_type": "code",
   "execution_count": 3,
   "metadata": {
    "ExecuteTime": {
     "end_time": "2021-10-26T07:58:03.981635Z",
     "start_time": "2021-10-26T07:58:03.930473Z"
    }
   },
   "outputs": [
    {
     "name": "stdout",
     "output_type": "stream",
     "text": [
      "[[-2  0 -3]\n",
      " [-2 -2 -1]\n",
      " [-1 -3  0]]\n"
     ]
    },
    {
     "data": {
      "text/plain": [
       "8"
      ]
     },
     "execution_count": 3,
     "metadata": {},
     "output_type": "execute_result"
    }
   ],
   "source": [
    "class Solution:\n",
    "    def maxCompatibilitySum(self, students, mentors) -> int:\n",
    "        import numpy as np\n",
    "        from scipy.optimize import linear_sum_assignment\n",
    "        cost_matrix=[]\n",
    "        for student in students:\n",
    "            value_list=[]\n",
    "            for mentor in mentors:\n",
    "                temp_sum=0\n",
    "                for i in range(len(student)):\n",
    "                    if student[i]==mentor[i]:\n",
    "                        temp_sum-=1\n",
    "                value_list.append(temp_sum)\n",
    "            cost_matrix.append(value_list)\n",
    "        cost_mat_array=np.array(cost_matrix)\n",
    "        print(cost_mat_array)\n",
    "        row_ind,col_ind=linear_sum_assignment(cost_mat_array)\n",
    "        return  int(cost_mat_array[row_ind, col_ind].sum())*(-1)\n",
    "\n",
    "solution=Solution()\n",
    "solution.maxCompatibilitySum(students=[[1,1,0],[1,0,1],[0,0,1]],mentors = [[1,0,0],[0,0,1],[1,1,0]])"
   ]
  },
  {
   "cell_type": "code",
   "execution_count": null,
   "metadata": {},
   "outputs": [],
   "source": []
  }
 ],
 "metadata": {
  "kernelspec": {
   "display_name": "Python 3",
   "language": "python",
   "name": "python3"
  },
  "language_info": {
   "codemirror_mode": {
    "name": "ipython",
    "version": 3
   },
   "file_extension": ".py",
   "mimetype": "text/x-python",
   "name": "python",
   "nbconvert_exporter": "python",
   "pygments_lexer": "ipython3",
   "version": "3.8.8"
  },
  "varInspector": {
   "cols": {
    "lenName": 16,
    "lenType": 16,
    "lenVar": 40
   },
   "kernels_config": {
    "python": {
     "delete_cmd_postfix": "",
     "delete_cmd_prefix": "del ",
     "library": "var_list.py",
     "varRefreshCmd": "print(var_dic_list())"
    },
    "r": {
     "delete_cmd_postfix": ") ",
     "delete_cmd_prefix": "rm(",
     "library": "var_list.r",
     "varRefreshCmd": "cat(var_dic_list()) "
    }
   },
   "position": {
    "height": "290.724px",
    "left": "1375.45px",
    "right": "20px",
    "top": "120px",
    "width": "350px"
   },
   "types_to_exclude": [
    "module",
    "function",
    "builtin_function_or_method",
    "instance",
    "_Feature"
   ],
   "window_display": true
  }
 },
 "nbformat": 4,
 "nbformat_minor": 4
}
